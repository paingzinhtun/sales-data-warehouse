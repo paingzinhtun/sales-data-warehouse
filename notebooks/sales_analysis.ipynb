{
 "cells": [
  {
   "cell_type": "code",
   "execution_count": 2,
   "id": "dde637a2-ee26-4486-adff-b7d06c38d1e3",
   "metadata": {},
   "outputs": [],
   "source": [
    "# Import necessary libraries\n",
    "import psycopg2\n",
    "import pandas as pd\n",
    "import matplotlib.pyplot as plt"
   ]
  },
  {
   "cell_type": "code",
   "execution_count": 4,
   "id": "e221b703-625c-4dd0-86bd-74fd67469dbb",
   "metadata": {},
   "outputs": [],
   "source": [
    "# Establish a connection to PostgreSQL database\n",
    "conn = psycopg2.connect(\n",
    "    dbname=\"sales_db\",\n",
    "    user=\"postgres\",\n",
    "    password=\"8484123\",\n",
    "    host=\"localhost\",\n",
    "    port=\"5432\"\n",
    ")"
   ]
  },
  {
   "cell_type": "code",
   "execution_count": 6,
   "id": "ea7bc244-ceee-4281-869a-75a5ba38cd89",
   "metadata": {},
   "outputs": [],
   "source": [
    "# Create a query to fetch sales data\n",
    "query = \"\"\"\n",
    "SELECT f.sales_id, f.total_sales, f.date_id, p.product_name, c.customer_name\n",
    "FROM fact_sales f\n",
    "JOIN dim_product p ON f.product_id = p.product_id\n",
    "JOIN dim_customer c ON f.customer_id = c.customer_id\n",
    "\"\"\""
   ]
  },
  {
   "cell_type": "code",
   "execution_count": 8,
   "id": "4ec5fa6f-0939-49d4-ae91-5f2b79545735",
   "metadata": {},
   "outputs": [
    {
     "name": "stderr",
     "output_type": "stream",
     "text": [
      "C:\\Users\\HP\\AppData\\Local\\Temp\\ipykernel_20172\\3858274778.py:2: UserWarning: pandas only supports SQLAlchemy connectable (engine/connection) or database string URI or sqlite3 DBAPI2 connection. Other DBAPI2 objects are not tested. Please consider using SQLAlchemy.\n",
      "  df = pd.read_sql_query(query, conn)\n"
     ]
    }
   ],
   "source": [
    "# Use pandas to execute the query and load data into a DataFrame\n",
    "df = pd.read_sql_query(query, conn)"
   ]
  },
  {
   "cell_type": "code",
   "execution_count": 10,
   "id": "fe68563c-28d3-473e-80f1-14e9a1111e4b",
   "metadata": {},
   "outputs": [
    {
     "data": {
      "text/html": [
       "<div>\n",
       "<style scoped>\n",
       "    .dataframe tbody tr th:only-of-type {\n",
       "        vertical-align: middle;\n",
       "    }\n",
       "\n",
       "    .dataframe tbody tr th {\n",
       "        vertical-align: top;\n",
       "    }\n",
       "\n",
       "    .dataframe thead th {\n",
       "        text-align: right;\n",
       "    }\n",
       "</style>\n",
       "<table border=\"1\" class=\"dataframe\">\n",
       "  <thead>\n",
       "    <tr style=\"text-align: right;\">\n",
       "      <th></th>\n",
       "      <th>sales_id</th>\n",
       "      <th>total_sales</th>\n",
       "      <th>date_id</th>\n",
       "      <th>product_name</th>\n",
       "      <th>customer_name</th>\n",
       "    </tr>\n",
       "  </thead>\n",
       "  <tbody>\n",
       "    <tr>\n",
       "      <th>0</th>\n",
       "      <td>1</td>\n",
       "      <td>2400.0</td>\n",
       "      <td>1</td>\n",
       "      <td>Laptop</td>\n",
       "      <td>John Doe</td>\n",
       "    </tr>\n",
       "    <tr>\n",
       "      <th>1</th>\n",
       "      <td>2</td>\n",
       "      <td>800.0</td>\n",
       "      <td>2</td>\n",
       "      <td>Smartphone</td>\n",
       "      <td>Jane Smith</td>\n",
       "    </tr>\n",
       "    <tr>\n",
       "      <th>2</th>\n",
       "      <td>3</td>\n",
       "      <td>450.0</td>\n",
       "      <td>3</td>\n",
       "      <td>Headphones</td>\n",
       "      <td>Emily Johnson</td>\n",
       "    </tr>\n",
       "    <tr>\n",
       "      <th>3</th>\n",
       "      <td>4</td>\n",
       "      <td>500.0</td>\n",
       "      <td>4</td>\n",
       "      <td>Gaming Console</td>\n",
       "      <td>Michael Brown</td>\n",
       "    </tr>\n",
       "  </tbody>\n",
       "</table>\n",
       "</div>"
      ],
      "text/plain": [
       "   sales_id  total_sales  date_id    product_name  customer_name\n",
       "0         1       2400.0        1          Laptop       John Doe\n",
       "1         2        800.0        2      Smartphone     Jane Smith\n",
       "2         3        450.0        3      Headphones  Emily Johnson\n",
       "3         4        500.0        4  Gaming Console  Michael Brown"
      ]
     },
     "execution_count": 10,
     "metadata": {},
     "output_type": "execute_result"
    }
   ],
   "source": [
    "# Show the first few rows of the DataFrame\n",
    "df.head()"
   ]
  },
  {
   "cell_type": "code",
   "execution_count": 12,
   "id": "7f43bfe8-575a-410d-b5b5-ecb71a2103d8",
   "metadata": {},
   "outputs": [],
   "source": [
    "# Close the connection\n",
    "conn.close()"
   ]
  },
  {
   "cell_type": "code",
   "execution_count": 14,
   "id": "fc033b90-2986-43a0-a86e-5e0958b41cc5",
   "metadata": {},
   "outputs": [
    {
     "data": {
      "image/png": "[encoded data removed]",
      "text/plain": [
       "<Figure size 640x480 with 1 Axes>"
      ]
     },
     "metadata": {},
     "output_type": "display_data"
    }
   ],
   "source": [
    "# Plotting a simple sales distribution\n",
    "df['total_sales'].plot(kind='hist', bins=20, color='skyblue', edgecolor='black')\n",
    "plt.title('Sales Distribution')\n",
    "plt.xlabel('Sales Amount')\n",
    "plt.ylabel('Frequency')\n",
    "plt.show()"
   ]
  },
  {
   "cell_type": "code",
   "execution_count": null,
   "id": "a1c58a64-0dc7-48eb-b0ca-188374581e64",
   "metadata": {},
   "outputs": [],
   "source": []
  }
 ],
 "metadata": {
  "kernelspec": {
   "display_name": "Python 3 (ipykernel)",
   "language": "python",
   "name": "python3"
  },
  "language_info": {
   "codemirror_mode": {
    "name": "ipython",
    "version": 3
   },
   "file_extension": ".py",
   "mimetype": "text/x-python",
   "name": "python",
   "nbconvert_exporter": "python",
   "pygments_lexer": "ipython3",
   "version": "3.12.4"
  }
 },
 "nbformat": 4,
 "nbformat_minor": 5
}
